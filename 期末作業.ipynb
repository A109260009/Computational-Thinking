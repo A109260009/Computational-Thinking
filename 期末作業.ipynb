{
  "nbformat": 4,
  "nbformat_minor": 0,
  "metadata": {
    "colab": {
      "name": "期末作業.ipynb",
      "provenance": [],
      "authorship_tag": "ABX9TyO4ysiv9zq/lSIL4HED4SQd",
      "include_colab_link": true
    },
    "kernelspec": {
      "name": "python3",
      "display_name": "Python 3"
    }
  },
  "cells": [
    {
      "cell_type": "markdown",
      "metadata": {
        "id": "view-in-github",
        "colab_type": "text"
      },
      "source": [
        "<a href=\"https://colab.research.google.com/github/A109260009/Computational-Thinking/blob/master/%E6%9C%9F%E6%9C%AB%E4%BD%9C%E6%A5%AD.ipynb\" target=\"_parent\"><img src=\"https://colab.research.google.com/assets/colab-badge.svg\" alt=\"Open In Colab\"/></a>"
      ]
    },
    {
      "cell_type": "code",
      "metadata": {
        "colab": {
          "base_uri": "https://localhost:8080/"
        },
        "id": "0mKTSPUb3eXV",
        "outputId": "8ad74432-ae50-4df6-eb53-c696e1d60c06"
      },
      "source": [
        "feeling = input(\"你今天心情好嗎?\")\r\n",
        "if feeling  == \"心情好\" :\r\n",
        "  print(\"希望你繼續保持喔\")\r\n",
        "if feeling == \"心情不好\" :\r\n",
        "  print(\"沒關係,不好的盡頭就是好的開始\") \r\n",
        "\r\n",
        "A = input(\"那可以和我分享為什麼嗎?\")\r\n",
        "print(\"我了解了,祝您有愉快的一天\")"
      ],
      "execution_count": 34,
      "outputs": [
        {
          "output_type": "stream",
          "text": [
            "你今天心情好嗎?心情好\n",
            "希望你繼續保持喔\n",
            "那可以和我分享為什麼嗎?不855ˋ5655\n",
            "我了解了,祝您有愉快的一天\n"
          ],
          "name": "stdout"
        }
      ]
    },
    {
      "cell_type": "code",
      "metadata": {
        "id": "lc1A6tW7AQVO"
      },
      "source": [
        ""
      ],
      "execution_count": null,
      "outputs": []
    }
  ]
}