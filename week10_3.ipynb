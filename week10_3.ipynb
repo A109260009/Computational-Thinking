{
  "nbformat": 4,
  "nbformat_minor": 0,
  "metadata": {
    "colab": {
      "name": "week10-3.ipynb",
      "provenance": [],
      "authorship_tag": "ABX9TyNM5kqq6mcVvQUYpfuWuP7C",
      "include_colab_link": true
    },
    "kernelspec": {
      "name": "python3",
      "display_name": "Python 3"
    }
  },
  "cells": [
    {
      "cell_type": "markdown",
      "metadata": {
        "id": "view-in-github",
        "colab_type": "text"
      },
      "source": [
        "<a href=\"https://colab.research.google.com/github/A109260009/Computational-Thinking/blob/master/week10_3.ipynb\" target=\"_parent\"><img src=\"https://colab.research.google.com/assets/colab-badge.svg\" alt=\"Open In Colab\"/></a>"
      ]
    },
    {
      "cell_type": "code",
      "metadata": {
        "colab": {
          "base_uri": "https://localhost:8080/"
        },
        "id": "KVAV3NsddRWW",
        "outputId": "fc14bdf9-6562-4a6b-e250-bdbadcfd65a7"
      },
      "source": [
        "# input Data\n",
        "time = 123\n",
        "\n",
        "#process\n",
        "hour = time//60#商數\n",
        "minute = time% 60 #餘數\n",
        "\n",
        "#output\n",
        "\n",
        "print(time,\"是\",hour,\"小時\",minute,\"分鐘\")\n",
        "\n",
        "##process\n",
        "\n",
        "hour1=int(time/60)#除法與整數\n",
        "minute1=((time/60)-hour1)*60\n",
        "import math\n",
        "minute1=round(minute1)\n",
        "\n",
        "print(time,\"是\",hour1,\"小時\",minute,\"分鐘\")"
      ],
      "execution_count": 18,
      "outputs": [
        {
          "output_type": "stream",
          "text": [
            "123 是 2 小時 3 分鐘\n",
            "123 是 2 小時 3 分鐘\n"
          ],
          "name": "stdout"
        }
      ]
    },
    {
      "cell_type": "code",
      "metadata": {
        "colab": {
          "base_uri": "https://localhost:8080/"
        },
        "id": "179WXqRQkhmq",
        "outputId": "10ef95cb-a58b-4279-bdac-352757f56135"
      },
      "source": [
        "# input number\n",
        "number = x =int(input(\"請輸入人數\"))\n",
        "\n",
        "#process\n",
        "Group = ((number+4)//5)#商數\n",
        "\n",
        "\n",
        "#output\n",
        "print(number,\"是\",Group,\"組別\")\n",
        "\n",
        "#process\n",
        "Group1 = int ((number+4) // 5)\n",
        "\n",
        "\n",
        "\n",
        "\n"
      ],
      "execution_count": 32,
      "outputs": [
        {
          "output_type": "stream",
          "text": [
            "請輸入人數38\n",
            "38 是 8 組別\n"
          ],
          "name": "stdout"
        }
      ]
    }
  ]
}