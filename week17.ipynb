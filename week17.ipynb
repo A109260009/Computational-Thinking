{
  "nbformat": 4,
  "nbformat_minor": 0,
  "metadata": {
    "colab": {
      "name": "week17.ipynb",
      "provenance": [],
      "authorship_tag": "ABX9TyMOZALQvPg1n7/x5EUogXay",
      "include_colab_link": true
    },
    "kernelspec": {
      "name": "python3",
      "display_name": "Python 3"
    }
  },
  "cells": [
    {
      "cell_type": "markdown",
      "metadata": {
        "id": "view-in-github",
        "colab_type": "text"
      },
      "source": [
        "<a href=\"https://colab.research.google.com/github/A109260009/Computational-Thinking/blob/master/week17.ipynb\" target=\"_parent\"><img src=\"https://colab.research.google.com/assets/colab-badge.svg\" alt=\"Open In Colab\"/></a>"
      ]
    },
    {
      "cell_type": "code",
      "metadata": {
        "colab": {
          "base_uri": "https://localhost:8080/"
        },
        "id": "JQy9k7Kxp7x_",
        "outputId": "0171b70e-426f-43b9-c18f-59b164305102"
      },
      "source": [
        "#判斷奇偶數\r\n",
        "\r\n",
        "##input:give me a number\r\n",
        "\r\n",
        "#number = 25\r\n",
        "\r\n",
        "number =input(\"give me anumber:\")\r\n",
        "number = int(number)\r\n",
        "\r\n",
        "##process:odds-num/2 .....1 Even num /2 - - -0\r\n",
        "\r\n",
        "condition = number%2\r\n",
        "if condition ==0:\r\n",
        "    print(\"this number is an even number\")\r\n",
        "else:\r\n",
        "    print(\"this number is an odd number\")\r\n",
        "\r\n",
        "    ##output : print\r\n",
        "\r\n"
      ],
      "execution_count": 5,
      "outputs": [
        {
          "output_type": "stream",
          "text": [
            "give me anumber:2002\n",
            "this number is an even number\n"
          ],
          "name": "stdout"
        }
      ]
    },
    {
      "cell_type": "code",
      "metadata": {
        "colab": {
          "base_uri": "https://localhost:8080/"
        },
        "id": "FQTsgHeQsPVm",
        "outputId": "6d7ad5b3-bced-4c78-ba9d-470b235a8c70"
      },
      "source": [
        "#input\r\n",
        "year = int(input(\"請輸入年分?\"))\r\n",
        "if ((year % 400) == 0):\r\n",
        "  print(year,\"是閏年\")\r\n",
        "elif ((year % 100) == 0):\r\n",
        "  print(year,\"不是閏年\")  \r\n",
        "elif ((year % 4) == 0):\r\n",
        "  print(year,\"是閏年\")\r\n",
        "else:\r\n",
        "  print(year,\"不是閏年\")\r\n"
      ],
      "execution_count": 11,
      "outputs": [
        {
          "output_type": "stream",
          "text": [
            "請輸入年分?2002\n",
            "2002 不是閏年\n"
          ],
          "name": "stdout"
        }
      ]
    },
    {
      "cell_type": "code",
      "metadata": {
        "colab": {
          "base_uri": "https://localhost:8080/"
        },
        "id": "QWUM1ZhJu8Ok",
        "outputId": "4e1dbfd8-8bce-4337-b9b6-8032c16d8269"
      },
      "source": [
        "#方法一:單向選擇\r\n",
        "score = int(input(\"請輸入一個成績\"))\r\n",
        "if score >= 80:\r\n",
        "  print(\"非常好\")\r\n",
        "if 80 > score >= 60:\r\n",
        "   print(\"不錯喔\")\r\n",
        "if score < 60:\r\n",
        "   print(\"要加油\")   \r\n",
        "#方法二:多向選擇 \r\n",
        "score = int(input(\"請輸入一個成績\"))\r\n",
        "if score >= 80: \r\n",
        "  print(\"非常好\")\r\n",
        "elif  score >= 60:\r\n",
        "  print(\"不錯喔\")\r\n",
        "else:\r\n",
        "   print(\"要加油\")  \r\n",
        "#方法三:雙向選擇+巢狀選擇\r\n",
        "score = int(input(\"請輸入一個成績\"))  \r\n",
        "if score >= 80:\r\n",
        "   print(\"非常好\")\r\n",
        "else:\r\n",
        "  if score >= 60:\r\n",
        "      print(\"不錯喔\")\r\n",
        "  else:\r\n",
        "    print(\"要加油\")"
      ],
      "execution_count": 14,
      "outputs": [
        {
          "output_type": "stream",
          "text": [
            "請輸入一個成績20\n",
            "要加油\n",
            "請輸入一個成績100\n",
            "非常好\n",
            "請輸入一個成績30\n",
            "要加油\n"
          ],
          "name": "stdout"
        }
      ]
    }
  ]
}