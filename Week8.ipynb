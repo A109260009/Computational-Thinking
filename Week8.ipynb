{
  "nbformat": 4,
  "nbformat_minor": 0,
  "metadata": {
    "colab": {
      "name": "Week8.ipynb",
      "provenance": [],
      "include_colab_link": true
    },
    "kernelspec": {
      "name": "python3",
      "display_name": "Python 3"
    }
  },
  "cells": [
    {
      "cell_type": "markdown",
      "metadata": {
        "id": "view-in-github",
        "colab_type": "text"
      },
      "source": [
        "<a href=\"https://colab.research.google.com/github/A109260009/Computational-Thinking/blob/master/Week8.ipynb\" target=\"_parent\"><img src=\"https://colab.research.google.com/assets/colab-badge.svg\" alt=\"Open In Colab\"/></a>"
      ]
    },
    {
      "cell_type": "code",
      "metadata": {
        "id": "HI6nYzYxLeL6",
        "outputId": "0a8bcbb7-946d-40d6-d2a5-1a0fed4e77b5",
        "colab": {
          "base_uri": "https://localhost:8080/"
        }
      },
      "source": [
        "n=\"請問貴姓大名?\"\n",
        "a=\"請問您的年紀?\"\n",
        "w=\"請問您的體重?\"\n",
        "print(f\"你好 ，{n}\" )\n",
        "print(f\"Hello John.{a}\")\n",
        "print(f\"{w}\")"
      ],
      "execution_count": 1,
      "outputs": [
        {
          "output_type": "stream",
          "text": [
            "你好 ，請問貴姓大名?\n",
            "Hello John.請問您的年紀?\n",
            "請問您的體重?\n"
          ],
          "name": "stdout"
        }
      ]
    },
    {
      "cell_type": "markdown",
      "metadata": {
        "id": "AABB8Sr0bi5C"
      },
      "source": [
        "習題一\n"
      ]
    },
    {
      "cell_type": "code",
      "metadata": {
        "id": "wMpCesfdbo_5",
        "outputId": "e63d5aae-d434-469a-e6d9-62a24fa04529",
        "colab": {
          "base_uri": "https://localhost:8080/"
        }
      },
      "source": [
        "cloth = int(input(\"請輸入上衣數量?\"))\n",
        "trousers = int(input(\"請輸入褲子數量?\"))\n",
        "vest = int(input(\"請輸入背心數量?\"))\n",
        "total = cloth*300 + trousers*350 + vest*400\n",
        "print(\"訂購服裝的總金額為\",total)"
      ],
      "execution_count": 4,
      "outputs": [
        {
          "output_type": "stream",
          "text": [
            "請輸入上衣數量?1\n",
            "請輸入褲子數量?2\n",
            "請輸入背心數量?3\n",
            "訂購服裝的總金額為 2200\n"
          ],
          "name": "stdout"
        }
      ]
    },
    {
      "cell_type": "markdown",
      "metadata": {
        "id": "6LlCvNHCkkre"
      },
      "source": [
        "習題二"
      ]
    },
    {
      "cell_type": "code",
      "metadata": {
        "id": "TBiGoQF1knxU",
        "outputId": "2100d86d-fdea-479d-f3a1-bc3cd7d527ec",
        "colab": {
          "base_uri": "https://localhost:8080/"
        }
      },
      "source": [
        "cans=int(input('請輸入購買飲料的罐數?'))\n",
        "total=(cans//12)*200+(cans%12)*20\n",
        "print('需花費',total)"
      ],
      "execution_count": 5,
      "outputs": [
        {
          "output_type": "stream",
          "text": [
            "請輸入購買飲料的罐數?5\n",
            "需花費 100\n"
          ],
          "name": "stdout"
        }
      ]
    },
    {
      "cell_type": "markdown",
      "metadata": {
        "id": "cP59L8A6nH1O"
      },
      "source": [
        "習題三"
      ]
    },
    {
      "cell_type": "code",
      "metadata": {
        "id": "cUcL3uepnRz7",
        "outputId": "ef398117-d4ab-4c55-d395-405ff5906638",
        "colab": {
          "base_uri": "https://localhost:8080/"
        }
      },
      "source": [
        "fir=int(input('請輸入第一次期中考成績?'))\n",
        "sec=int(input('請輸入第二次期中考成績?'))\n",
        "final=int(input('請輸入期末考成績?'))\n",
        "t=(fir+sec+final)\n",
        "a=t/3\n",
        "print('總分',t)\n",
        "print('平均',a)"
      ],
      "execution_count": 6,
      "outputs": [
        {
          "output_type": "stream",
          "text": [
            "請輸入第一次期中考成績?65\n",
            "請輸入第二次期中考成績?70\n",
            "請輸入期末考成績?85\n",
            "總分 220\n",
            "平均 73.33333333333333\n"
          ],
          "name": "stdout"
        }
      ]
    }
  ]
}