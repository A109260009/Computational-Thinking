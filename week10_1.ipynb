{
  "nbformat": 4,
  "nbformat_minor": 0,
  "metadata": {
    "colab": {
      "name": "week10-1.ipynb",
      "provenance": [],
      "authorship_tag": "ABX9TyM62xM66FsR+Aswm0Iovbir",
      "include_colab_link": true
    },
    "kernelspec": {
      "name": "python3",
      "display_name": "Python 3"
    }
  },
  "cells": [
    {
      "cell_type": "markdown",
      "metadata": {
        "id": "view-in-github",
        "colab_type": "text"
      },
      "source": [
        "<a href=\"https://colab.research.google.com/github/A109260009/Computational-Thinking/blob/master/week10_1.ipynb\" target=\"_parent\"><img src=\"https://colab.research.google.com/assets/colab-badge.svg\" alt=\"Open In Colab\"/></a>"
      ]
    },
    {
      "cell_type": "code",
      "metadata": {
        "colab": {
          "base_uri": "https://localhost:8080/"
        },
        "id": "7D9-X0_sWAXC",
        "outputId": "f77dc67c-ca4d-4952-cd4a-078907e1e5fe"
      },
      "source": [
        "#寫程式怎麼一回事\n",
        "##Question:{后翼棄兵}那部電影值不值得看?老闆想了解一下那部電影的相關資訊\n",
        "#step1 : 上網找 哪裡找 找甚麼 如何回覆\n",
        "\n",
        "\n",
        "##IMBD從電影資料庫找出要記錄的后翼棄兵電影相關資訊\n",
        "##網址:\n",
        "##相關資訊:電影名稱、放映日期.......\n",
        "\n",
        "#step2 :input-Process-Output\n",
        "\n",
        "##輸入資料\n",
        "##處理\n",
        "##輸出資料\n",
        "\n",
        "#step3 :Coding\n",
        "\n",
        "Movie_title=\"The Queen's Gambit\"\n",
        "release_year = \"2020\"\n",
        "Movie = \"https://www.imdb.com/title/tt10048342/?ref_=hm_fanfav_tt_1_pd_fp1\"\n",
        "Creators = \"scott frank\"\n",
        "Movie_heroine = \"Anya Taylor-Joy\"\n",
        "\n",
        "\n",
        "\n",
        "print(\"電影英文名稱\",Movie_title)\n",
        "print(\"上映時間\",release_year)\n",
        "print(\"電影網址\",Movie)\n",
        "print(\"電影導演\",Creators)\n",
        "print(\"電影女主角\",Movie_heroine)\n",
        "\n",
        "\n"
      ],
      "execution_count": 10,
      "outputs": [
        {
          "output_type": "stream",
          "text": [
            "電影英文名稱 The Queen's Gambit\n",
            "上映時間 2020\n",
            "電影網址 https://www.imdb.com/title/tt10048342/?ref_=hm_fanfav_tt_1_pd_fp1\n",
            "電影導演 scott frank\n",
            "電影女主角 Anya Taylor-Joy\n"
          ],
          "name": "stdout"
        }
      ]
    }
  ]
}