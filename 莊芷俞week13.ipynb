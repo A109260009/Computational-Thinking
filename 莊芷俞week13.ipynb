{
  "nbformat": 4,
  "nbformat_minor": 0,
  "metadata": {
    "colab": {
      "name": "莊芷俞week13.ipynb",
      "provenance": [],
      "authorship_tag": "ABX9TyP70VITRvwqAN9aNAs0VoZZ",
      "include_colab_link": true
    },
    "kernelspec": {
      "name": "python3",
      "display_name": "Python 3"
    }
  },
  "cells": [
    {
      "cell_type": "markdown",
      "metadata": {
        "id": "view-in-github",
        "colab_type": "text"
      },
      "source": [
        "<a href=\"https://colab.research.google.com/github/A109260009/Computational-Thinking/blob/master/%E8%8E%8A%E8%8A%B7%E4%BF%9Eweek13.ipynb\" target=\"_parent\"><img src=\"https://colab.research.google.com/assets/colab-badge.svg\" alt=\"Open In Colab\"/></a>"
      ]
    },
    {
      "cell_type": "code",
      "metadata": {
        "colab": {
          "base_uri": "https://localhost:8080/"
        },
        "id": "OqVvsQAEsbnA",
        "outputId": "bad78c59-e4a2-4e6e-dbf1-e5b1a55af67f"
      },
      "source": [
        "for i in range(0,5,1):\n",
        "  print(\"hollo\")"
      ],
      "execution_count": 1,
      "outputs": [
        {
          "output_type": "stream",
          "text": [
            "hollo\n",
            "hollo\n",
            "hollo\n",
            "hollo\n",
            "hollo\n"
          ],
          "name": "stdout"
        }
      ]
    },
    {
      "cell_type": "code",
      "metadata": {
        "colab": {
          "base_uri": "https://localhost:8080/"
        },
        "id": "HmlCtkjgtNqQ",
        "outputId": "b613d325-00f6-4880-d47e-0b26fccfb08a"
      },
      "source": [
        "# [0,1,2,3,4]\n",
        "for i in range(0,5,1):\n",
        "      print(i)\n",
        "#[2,4,6,8]\n",
        "for i in range(2,10,2):\n",
        "      print(i)\n",
        "#[100,97,94,91]\n",
        "for i in range(100,90,-3):\n",
        "      print(i)\n"
      ],
      "execution_count": 5,
      "outputs": [
        {
          "output_type": "stream",
          "text": [
            "0\n",
            "1\n",
            "2\n",
            "3\n",
            "4\n",
            "2\n",
            "4\n",
            "6\n",
            "8\n",
            "100\n",
            "97\n",
            "94\n",
            "91\n"
          ],
          "name": "stdout"
        }
      ]
    },
    {
      "cell_type": "code",
      "metadata": {
        "colab": {
          "base_uri": "https://localhost:8080/"
        },
        "id": "YzvB0-ipuJcK",
        "outputId": "7f32771c-8d2d-49ae-eba1-8ad24ef9bcc1"
      },
      "source": [
        "#數字1到10之和。\n",
        "## 1+2+3+4+5+6+7+8+9+10=?\n",
        "sum = 0\n",
        "for i in range(1,11,1):\n",
        "    sum = sum + i \n",
        "print(\"Total is\", sum)\n"
      ],
      "execution_count": 10,
      "outputs": [
        {
          "output_type": "stream",
          "text": [
            "Total is 55\n"
          ],
          "name": "stdout"
        }
      ]
    },
    {
      "cell_type": "code",
      "metadata": {
        "colab": {
          "base_uri": "https://localhost:8080/"
        },
        "id": "YrBxaRlMuq9G",
        "outputId": "67d257ea-86c5-4252-c465-ca78826adc74"
      },
      "source": [
        "#數字1到10奇數之和。\n",
        "## 1+3+5+7+9 = ?\n",
        "sum = 0 \n",
        "for i in range(1, 11, 2): \n",
        "     sum = sum + i \n",
        "print(\"Total is\", sum)\n"
      ],
      "execution_count": 13,
      "outputs": [
        {
          "output_type": "stream",
          "text": [
            "Total is 25\n"
          ],
          "name": "stdout"
        }
      ]
    },
    {
      "cell_type": "code",
      "metadata": {
        "colab": {
          "base_uri": "https://localhost:8080/"
        },
        "id": "AJKFlCCeu9ip",
        "outputId": "b6950b42-e825-4457-ce7e-65bc4fabe0b8"
      },
      "source": [
        "#2+4+6+8+10 = ?\n",
        "sum = 0 \n",
        "for i in range(2, 11, 2):\n",
        "    sum = sum + i \n",
        "print(\"Total is\", sum)"
      ],
      "execution_count": 15,
      "outputs": [
        {
          "output_type": "stream",
          "text": [
            "Total is 30\n"
          ],
          "name": "stdout"
        }
      ]
    },
    {
      "cell_type": "code",
      "metadata": {
        "colab": {
          "base_uri": "https://localhost:8080/"
        },
        "id": "h7Wjn3vhvX7x",
        "outputId": "b03ab96e-9b1c-4cbf-a1b8-a2b011e1dbf6"
      },
      "source": [
        "#3+6+9+12 = ?\n",
        "sum = 0 \n",
        "for i in range(3, 14, 3): \n",
        "    sum = sum + i \n",
        "print(\"Total is\", sum)"
      ],
      "execution_count": 16,
      "outputs": [
        {
          "output_type": "stream",
          "text": [
            "Total is 30\n"
          ],
          "name": "stdout"
        }
      ]
    },
    {
      "cell_type": "code",
      "metadata": {
        "colab": {
          "base_uri": "https://localhost:8080/"
        },
        "id": "oUcdOwdavvrH",
        "outputId": "be7ee492-d537-4d00-f02e-4822b7e98bfd"
      },
      "source": [
        "#1^2 + 2^2 + 3^2 + n^2 = ?\n",
        "n = int(input(\"請輸入n值?\"))\n",
        "sum = 0 \n",
        "for i in range(1, n+1): \n",
        "    sum = sum + i*i\n",
        "print(\"Total is\", sum)"
      ],
      "execution_count": 22,
      "outputs": [
        {
          "output_type": "stream",
          "text": [
            "請輸入n值?5\n",
            "Total is 55\n"
          ],
          "name": "stdout"
        }
      ]
    },
    {
      "cell_type": "code",
      "metadata": {
        "colab": {
          "base_uri": "https://localhost:8080/"
        },
        "id": "M1RQ01voxpfr",
        "outputId": "ee9d3ebd-4d24-42b8-a3f5-baab97702d71"
      },
      "source": [
        "start = int(input(\"請輸入加總開始值\"))\n",
        "end = int(input(\"請輸入加總終止值\"))\n",
        "step = int(input(\"請輸入遞增值\"))\n",
        "sum = 0 \n",
        "for i in range(start,end, step ): \n",
        "   sum = sum + i \n",
        "   print('i為',i, '時,累加結果為', sum)\n"
      ],
      "execution_count": 18,
      "outputs": [
        {
          "output_type": "stream",
          "text": [
            "請輸入加總開始值2\n",
            "請輸入加總終止值10\n",
            "請輸入遞增值2\n",
            "i為 2 時,累加結果為 2\n",
            "i為 4 時,累加結果為 6\n",
            "i為 6 時,累加結果為 12\n",
            "i為 8 時,累加結果為 20\n"
          ],
          "name": "stdout"
        }
      ]
    }
  ]
}