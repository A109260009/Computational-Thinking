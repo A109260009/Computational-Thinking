{
  "nbformat": 4,
  "nbformat_minor": 0,
  "metadata": {
    "colab": {
      "name": "Week12.ipynb",
      "provenance": [],
      "authorship_tag": "ABX9TyMjd0so+aL1RjmDdOZlapeb",
      "include_colab_link": true
    },
    "kernelspec": {
      "name": "python3",
      "display_name": "Python 3"
    }
  },
  "cells": [
    {
      "cell_type": "markdown",
      "metadata": {
        "id": "view-in-github",
        "colab_type": "text"
      },
      "source": [
        "<a href=\"https://colab.research.google.com/github/A109260009/Computational-Thinking/blob/master/Week12.ipynb\" target=\"_parent\"><img src=\"https://colab.research.google.com/assets/colab-badge.svg\" alt=\"Open In Colab\"/></a>"
      ]
    },
    {
      "cell_type": "code",
      "metadata": {
        "colab": {
          "base_uri": "https://localhost:8080/"
        },
        "id": "jhmexwyNb7Ls",
        "outputId": "dc84823a-e6cd-4e98-a299-fb5237bd1f31"
      },
      "source": [
        "#購物清單\n",
        ">>> shopping_list = ['豆花', '湯圓', '櫻桃', '花生', '鞋子']\n",
        ">>> print(shopping_list)\n"
      ],
      "execution_count": 5,
      "outputs": [
        {
          "output_type": "stream",
          "text": [
            "['豆花', '湯圓', '櫻桃', '花生', '鞋子']\n"
          ],
          "name": "stdout"
        }
      ]
    },
    {
      "cell_type": "code",
      "metadata": {
        "colab": {
          "base_uri": "https://localhost:8080/"
        },
        "id": "PuvXSGDhpht3",
        "outputId": "75ca11ea-6483-4d7f-bc4a-18b2be277c82"
      },
      "source": [
        "## 串列項目\n",
        "list5 =  ['豆花', '湯圓', '櫻桃', '花生', '鞋子'] \n",
        "print(list5)\n",
        "\n",
        "## 索引\n",
        "print(list5[0])\n",
        "## 變更\n",
        "list5[1] = '豆花' # 變更第1個項目\n",
        "print(list5)\n",
        "\n",
        "## 切片\n",
        "print(list5[1:3]) "
      ],
      "execution_count": 23,
      "outputs": [
        {
          "output_type": "stream",
          "text": [
            "['豆花', '湯圓', '櫻桃', '花生', '鞋子']\n",
            "豆花\n",
            "['豆花', '豆花', '櫻桃', '花生', '鞋子']\n",
            "['豆花', '櫻桃']\n"
          ],
          "name": "stdout"
        }
      ]
    },
    {
      "cell_type": "code",
      "metadata": {
        "colab": {
          "base_uri": "https://localhost:8080/"
        },
        "id": "hE-ZhKOCg5ae",
        "outputId": "f1ba0e6e-2d79-4203-f6b9-3b9c29bd2fa9"
      },
      "source": [
        "# 籃球隊冠軍資訊\n",
        "season = \"1995-1996\"\n",
        "team = \"Chicago Bulls\"\n",
        "coach = \"Phil Jackson\"\n",
        "records = [72, 10]\n",
        "starting = [\"Ron Harper\", \"Michael Jordan\", \"Scottie Pippen\", \"Dennis Rodman\", \"Luc Longley\"]\n",
        "champion = True\n",
        "\n",
        "# 變數best_NBA 賦值串列\n",
        "best_NBA = list((season, team, coach, records, starting, champion))\n",
        "# TypeError: list expected at most 1 arguments, got 6 (要有兩個小括號)\n",
        "print(best_NBA)\n",
        "\n",
        "print(type(best_NBA))\n",
        "\n",
        "# indexing 索引\n",
        "print(best_NBA[-2])\n",
        "\n",
        "# slicing 切片\n",
        "print(best_NBA[1:4])\n",
        "\n",
        "#球季\n",
        "print(season)\n",
        "#隊名\n",
        "print(team)\n",
        "#總教練\n",
        "print(coach)\n"
      ],
      "execution_count": 19,
      "outputs": [
        {
          "output_type": "stream",
          "text": [
            "['1995-1996', 'Chicago Bulls', 'Phil Jackson', [72, 10], ['Ron Harper', 'Michael Jordan', 'Scottie Pippen', 'Dennis Rodman', 'Luc Longley'], True]\n",
            "<class 'list'>\n",
            "['Ron Harper', 'Michael Jordan', 'Scottie Pippen', 'Dennis Rodman', 'Luc Longley']\n",
            "['Chicago Bulls', 'Phil Jackson', [72, 10]]\n",
            "1995-1996\n",
            "Chicago Bulls\n",
            "Phil Jackson\n"
          ],
          "name": "stdout"
        }
      ]
    },
    {
      "cell_type": "code",
      "metadata": {
        "colab": {
          "base_uri": "https://localhost:8080/"
        },
        "id": "vD-m32hdpe6C",
        "outputId": "2ea33395-eb3c-46de-f467-691d0d22bebb"
      },
      "source": [
        "# [0,1,2,3,4]\n",
        "a = range(5) # range(0,5,1)\n",
        "print(a)\n",
        "range(0, 5)\n",
        "print(a[0], a[1], a[2], a[3], a[4])\n",
        "\n",
        "# [2,3,4,5]\n",
        "b = range(2, 6) #range(2,6,1)\n",
        "print(b[0], b[1], b[2], b[3])\n",
        "\n",
        "# [2,5,8]\n",
        "c = range(2, 10, 3)\n",
        "print(c[0], c[1], c[2])\n",
        "\n",
        "# [10,8,6,4]\n",
        "d = range(10, 3, -2)\n",
        "print(d[0], d[1], d[2], d[3])\n"
      ],
      "execution_count": 26,
      "outputs": [
        {
          "output_type": "stream",
          "text": [
            "range(0, 5)\n",
            "0 1 2 3 4\n",
            "2 3 4 5\n",
            "2 5 8\n",
            "10 8 6 4\n"
          ],
          "name": "stdout"
        }
      ]
    },
    {
      "cell_type": "code",
      "metadata": {
        "colab": {
          "base_uri": "https://localhost:8080/",
          "height": 130
        },
        "id": "scn3jIapdMPF",
        "outputId": "9ed762ab-1fb5-4a63-9381-742148efe147"
      },
      "source": [
        "#分組作業\n",
        "project_title = \"今天要不要一起吃早餐?\"\n",
        "name_list =  [\"林諭辰\",\"陳瑾琦\",\"陳姵蓉\",\"莊芷俞\",\"邱柏睿\",\"劉宏望\",\"王冠仁\"]\n",
        "number_list = [\"A109260041\",\"A109260051\",\"A109260063\",\"A109260009\",\"A109260047,A109260065\",\"A109260075\"]\n",
        "duty_list = [\"提供菜單\",\"紀錄大家想吃的早餐\",\"打電話訂早餐\",\"去拿早餐\",\"提供菜單\",\"紀錄大家想吃的早餐\",\"打電話訂早餐\"]\n",
        "load_list = [\"15\",\"20\",\"20\",\"20\",[\"15\",\"20\",\"20\"]\n",
        "\n",
        "             "
      ],
      "execution_count": 38,
      "outputs": [
        {
          "output_type": "error",
          "ename": "SyntaxError",
          "evalue": "ignored",
          "traceback": [
            "\u001b[0;36m  File \u001b[0;32m\"<ipython-input-38-c1d561afad99>\"\u001b[0;36m, line \u001b[0;32m8\u001b[0m\n\u001b[0;31m    #組長=陳姵蓉\u001b[0m\n\u001b[0m                         ^\u001b[0m\n\u001b[0;31mSyntaxError\u001b[0m\u001b[0;31m:\u001b[0m unexpected EOF while parsing\n"
          ]
        }
      ]
    }
  ]
}