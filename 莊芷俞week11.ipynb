{
  "nbformat": 4,
  "nbformat_minor": 0,
  "metadata": {
    "colab": {
      "name": "莊芷俞week11.ipynb",
      "provenance": [],
      "authorship_tag": "ABX9TyN35NMNesw4PLDgZ4mqL8mA",
      "include_colab_link": true
    },
    "kernelspec": {
      "name": "python3",
      "display_name": "Python 3"
    }
  },
  "cells": [
    {
      "cell_type": "markdown",
      "metadata": {
        "id": "view-in-github",
        "colab_type": "text"
      },
      "source": [
        "<a href=\"https://colab.research.google.com/github/A109260009/Computational-Thinking/blob/master/%E8%8E%8A%E8%8A%B7%E4%BF%9Eweek11.ipynb\" target=\"_parent\"><img src=\"https://colab.research.google.com/assets/colab-badge.svg\" alt=\"Open In Colab\"/></a>"
      ]
    },
    {
      "cell_type": "code",
      "metadata": {
        "colab": {
          "base_uri": "https://localhost:8080/"
        },
        "id": "tdFJCG2haEP8",
        "outputId": "77c4b7b1-35e8-416e-b2c7-69faddae5c3b"
      },
      "source": [
        "# 商數餘數\n",
        "\n",
        "seat = input(\"Enter a seat number?\")\n",
        "seat = int(seat)\n",
        "## Process\n",
        "group = (seat - 1) // 5 + 1\n",
        " ##Output\n",
        "print(\"Group is\", group)"
      ],
      "execution_count": 5,
      "outputs": [
        {
          "output_type": "stream",
          "text": [
            "Enter a seat number?8\n",
            "Group is 2\n"
          ],
          "name": "stdout"
        }
      ]
    },
    {
      "cell_type": "code",
      "metadata": {
        "colab": {
          "base_uri": "https://localhost:8080/"
        },
        "id": "97RzR726afDb",
        "outputId": "d19b6308-2810-404d-b403-eacc1926a9af"
      },
      "source": [
        "#四捨五入無條件進位\n",
        "# input\n",
        "seat = int(input(\"Enter a seat number?\"))\n",
        "##process\n",
        "import math\n",
        "group = math.ceil(seat/5)\n",
        "##output\n",
        "print(\"group is\",group)"
      ],
      "execution_count": 6,
      "outputs": [
        {
          "output_type": "stream",
          "text": [
            "Enter a seat number?25\n",
            "group is 5\n"
          ],
          "name": "stdout"
        }
      ]
    },
    {
      "cell_type": "code",
      "metadata": {
        "colab": {
          "base_uri": "https://localhost:8080/"
        },
        "id": "RW-NjCeweHXn",
        "outputId": "98e4377d-d684-4963-ee1b-589e7fead187"
      },
      "source": [
        "# 方法(三):看餘數,用條件句\n",
        "number = int(input(\"Enter a number\"))\n",
        "if number%5 == 0:\n",
        "  print(\"Group is\", number//5)\n",
        "else:\n",
        "  print(\"Group is\",number//5 +1)"
      ],
      "execution_count": 10,
      "outputs": [
        {
          "output_type": "stream",
          "text": [
            "Enter a number19\n",
            "Group is 4\n"
          ],
          "name": "stdout"
        }
      ]
    },
    {
      "cell_type": "code",
      "metadata": {
        "colab": {
          "base_uri": "https://localhost:8080/"
        },
        "id": "R9oKh-oyf4ce",
        "outputId": "80acfbd9-6ea1-4abe-ea20-d2b8f84ce82e"
      },
      "source": [
        "print(\"哈囉，大家好。我叫zyxo64，是一個聊天機器人。\")\n",
        "\n",
        "hobby = \"我很喜歡美食，也很喜歡養動物。今天很高興有機會來到世新大學，請大家多多指教。\"\n",
        "print( hobby )\n",
        "\n",
        "#打招呼，取得對方名字\n",
        "name = input(\"嗨!你好，請問大名?:\")\n",
        "print(\"我叫\", name)\n",
        "print(\"你好\", name, \"很高興認識你\")"
      ],
      "execution_count": 18,
      "outputs": [
        {
          "output_type": "stream",
          "text": [
            "哈囉，大家好。我叫zyxo64，是一個聊天機器人。\n",
            "我很喜歡美食，也很喜歡養動物。今天很高興有機會來到世新大學，請大家多多指教。\n",
            "嗨!你好，請問大名?:莊芷俞\n",
            "我叫 莊芷俞\n",
            "你好 莊芷俞 很高興認識你\n"
          ],
          "name": "stdout"
        }
      ]
    },
    {
      "cell_type": "code",
      "metadata": {
        "colab": {
          "base_uri": "https://localhost:8080/"
        },
        "id": "R7tjBfF5lr93",
        "outputId": "ee811585-ad23-41af-ebb2-2fa119e3fd22"
      },
      "source": [
        "#食物分享\n",
        "print(\"我喜歡巧克力,也喜歡嘗試各種新的食物\")\n",
        "food = input(\"你呢?你最喜歡的食物是甚麼:\")\n",
        "print(\"我也喜歡\",food)\n",
        "question = \"你多久吃一次\" + food + \"?:\"\n",
        "print(\"真有趣,不知道這樣對健康好不好!\")\n"
      ],
      "execution_count": 11,
      "outputs": [
        {
          "output_type": "stream",
          "text": [
            "我喜歡巧克力,也喜歡嘗試各種新的食物\n",
            "你呢?你最喜歡的食物是甚麼:豆漿豆花\n",
            "我也喜歡 豆漿豆花\n",
            "真有趣,不知道這樣對健康好不好!\n"
          ],
          "name": "stdout"
        }
      ]
    },
    {
      "cell_type": "code",
      "metadata": {
        "colab": {
          "base_uri": "https://localhost:8080/"
        },
        "id": "8bdznq9jmpTi",
        "outputId": "d74d9dab-d534-4b13-f655-b8e74f198e76"
      },
      "source": [
        "# 動物話題\n",
        "animal = input(\"我最喜歡的動物是長頸鹿。你呢?; \")\n",
        "print(\"我不喜歡\", animal)\n",
        "print(\"不知道\", animal, \"喜不喜歡吃\", food, \"?\")"
      ],
      "execution_count": 26,
      "outputs": [
        {
          "output_type": "stream",
          "text": [
            "我最喜歡的動物是長頸鹿。你呢?; 大象\n",
            "我不喜歡 大象\n",
            "不知道 大象 喜不喜歡吃 豆漿豆花 ?\n"
          ],
          "name": "stdout"
        }
      ]
    },
    {
      "cell_type": "code",
      "metadata": {
        "colab": {
          "base_uri": "https://localhost:8080/"
        },
        "id": "T7DjL1pCpqWV",
        "outputId": "067a0cb4-462f-45a0-b100-5ea2085fd8fe"
      },
      "source": [
        "feeling = input(\"你今天心情如何?; \")\n",
        "print(\"告訴我你現在\", feeling, \"的原因。 \")\n",
        "reason = input(\"為什麼: \")\n",
        "print(\"我知道了。謝謝分享。\")"
      ],
      "execution_count": 27,
      "outputs": [
        {
          "output_type": "stream",
          "text": [
            "你今天心情如何?; 不好\n",
            "告訴我你現在 不好 的原因。 \n",
            "為什麼: 肚子餓\n",
            "我知道了。謝謝分享。\n"
          ],
          "name": "stdout"
        }
      ]
    },
    {
      "cell_type": "code",
      "metadata": {
        "colab": {
          "base_uri": "https://localhost:8080/"
        },
        "id": "P-nnIU-tqBq7",
        "outputId": "7b2238a1-31b1-4665-a1e2-d4e35ba2d9a8"
      },
      "source": [
        "# 從使用者取得今年年份\n",
        "year = input(\"請問一下今年是西元2020年,那是民國幾年呢? \")\n",
        "print(\"對!應該沒錯,謝謝妳!\")\n",
        "# 請使用者猜年齡\n",
        "myage = int(input(\"再猜猜看我今年幾歲? \"))\n",
        "print(\"哇!你好聰明,我今年的確\", myage)\n",
        "# 計算聊天機器人滿100歲的年份\n",
        "nyears = 100 - myage\n",
        "print(\"我再\", nyears, \"年就滿100歲了。\")\n",
        "print(\"到時候是西元\", int(year) + nyears + 1911, \"年\") # 將今年年份轉換為整數"
      ],
      "execution_count": 29,
      "outputs": [
        {
          "output_type": "stream",
          "text": [
            "請問一下今年是西元2020年,那是民國幾年呢? 109\n",
            "對!應該沒錯,謝謝妳!\n",
            "再猜猜看我今年幾歲? 5\n",
            "哇!你好聰明,我今年的確 5\n",
            "我再 95 年就滿100歲了。\n",
            "到時候是西元 2115 年\n"
          ],
          "name": "stdout"
        }
      ]
    },
    {
      "cell_type": "code",
      "metadata": {
        "colab": {
          "base_uri": "https://localhost:8080/"
        },
        "id": "9XWHlr5zp3-3",
        "outputId": "df57f8c0-cdf1-486a-a000-b194321b3352"
      },
      "source": [
        "# 道別\n",
        "print(\"今天事情真多!我累了,下次再聊。\")\n",
        "print(\"再見\", name, \"我喜歡跟你聊天!\")"
      ],
      "execution_count": 23,
      "outputs": [
        {
          "output_type": "stream",
          "text": [
            "今天事情真多!我累了,下次再聊。\n",
            "再見 莊芷俞 我喜歡跟你聊天!\n"
          ],
          "name": "stdout"
        }
      ]
    }
  ]
}